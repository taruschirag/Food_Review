{
  "nbformat": 4,
  "nbformat_minor": 0,
  "metadata": {
    "colab": {
      "provenance": [],
      "authorship_tag": "ABX9TyNju9Dmws413CrHYAT28sH2",
      "include_colab_link": true
    },
    "kernelspec": {
      "name": "python3",
      "display_name": "Python 3"
    },
    "language_info": {
      "name": "python"
    }
  },
  "cells": [
    {
      "cell_type": "markdown",
      "metadata": {
        "id": "view-in-github",
        "colab_type": "text"
      },
      "source": [
        "<a href=\"https://colab.research.google.com/github/taruschirag/Food_Review/blob/main/Review_Modifer.ipynb\" target=\"_parent\"><img src=\"https://colab.research.google.com/assets/colab-badge.svg\" alt=\"Open In Colab\"/></a>"
      ]
    },
    {
      "cell_type": "code",
      "execution_count": null,
      "metadata": {
        "id": "yrn0cSTn37XX"
      },
      "outputs": [],
      "source": []
    },
    {
      "cell_type": "code",
      "source": [
        "!pip install textacy\n",
        "import spacy\n",
        "from spacy.training.example import Example\n",
        "import textacy\n",
        "import pandas as pd\n",
        "\n",
        "# Load the pre-trained English language model\n",
        "nlp = spacy.load('en_core_web_sm')\n",
        "\n",
        "# Sample review text\n",
        "review_text = \"I had pasta and pizza. the ambiance was good. pasta was delicious\"\n",
        "\n",
        "# Process the review text with spaCy\n",
        "doc = nlp(review_text)\n",
        "\n",
        "data = pd.read_excel('Menu_Items.xlsx')\n",
        "\n",
        "# Extract food entities from the Excel sheet\n",
        "food_entities = data['Food_Items'].tolist()\n",
        "\n",
        "positive_sentiment_words = ['good', 'delicious', 'tasty']  # Add more positive words as needed\n",
        "relevant_context = []\n",
        "\n",
        "for sent in doc.sents:\n",
        "    food_mentioned = any(token.text.lower() in [food.lower() for food in food_entities] for token in sent)\n",
        "    positive_sentiment = any(word in sent.text.lower() for word in positive_sentiment_words)\n",
        "    if food_mentioned and positive_sentiment:\n",
        "        relevant_context.append(sent.text)\n",
        "\n",
        "# Print debug information\n",
        "print(\"Relevant Context Sentences:\")\n",
        "print(relevant_context)\n",
        "\n",
        "# Join the relevant context sentences to form the final extracted text\n",
        "final_extracted_text = \" \".join(relevant_context)\n",
        "\n",
        "print(\"Final Extracted Text:\")\n",
        "print(final_extracted_text)\n",
        "\n",
        "\n"
      ],
      "metadata": {
        "colab": {
          "base_uri": "https://localhost:8080/"
        },
        "id": "ofn9IxFg5Hv7",
        "outputId": "d2c3f915-f5d1-4783-ba9e-f8b00aeb3c36"
      },
      "execution_count": 3,
      "outputs": [
        {
          "output_type": "stream",
          "name": "stdout",
          "text": [
            "Relevant Context Sentences:\n",
            "['pasta was delicious']\n",
            "Final Extracted Text:\n",
            "pasta was delicious\n"
          ]
        }
      ]
    },
    {
      "cell_type": "code",
      "source": [
        "\n"
      ],
      "metadata": {
        "id": "3W1ymWnpEajR"
      },
      "execution_count": null,
      "outputs": []
    }
  ]
}